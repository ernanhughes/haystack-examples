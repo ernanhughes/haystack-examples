{
 "cells": [
  {
   "cell_type": "code",
   "execution_count": 4,
   "metadata": {},
   "outputs": [],
   "source": [
    "import wikipedia\n",
    "import json\n",
    "\n",
    "from typing import List, Optional\n",
    "from haystack import Pipeline, component\n",
    "\n",
    "from haystack.components.builders import PromptBuilder\n",
    "\n",
    "from haystack.components.preprocessors import DocumentCleaner, DocumentSplitter\n",
    "from haystack.components.retrievers import InMemoryBM25Retriever\n",
    "from haystack.components.writers import DocumentWriter\n",
    "\n",
    "from haystack.dataclasses import Document\n",
    "\n",
    "from haystack.document_stores.in_memory import InMemoryDocumentStore\n",
    "from haystack.document_stores.types import DuplicatePolicy"
   ]
  },
  {
   "cell_type": "code",
   "execution_count": 23,
   "metadata": {},
   "outputs": [],
   "source": [
    "from haystack_integrations.components.generators.ollama import OllamaGenerator\n",
    "\n",
    "@component\n",
    "class QueryExpander:\n",
    "\n",
    "    def __init__(self, prompt: Optional[str] = None, model: str = \"llama3.2\"):\n",
    "\n",
    "        self.query_expansion_prompt = prompt\n",
    "        self.model = model\n",
    "        if prompt == None:\n",
    "          self.query_expansion_prompt = \"\"\"\n",
    "          You are part of an information system that processes users queries.\n",
    "          You expand a given query into {{ number }} queries that are similar in meaning.\n",
    "          \n",
    "          Structure:\n",
    "          Follow the structure shown below in examples to generate expanded queries.\n",
    "          Examples:\n",
    "          1. Example Query 1: \"climate change effects\"\n",
    "          Example Expanded Queries: [\"impact of climate change\", \"consequences of global warming\", \"effects of environmental changes\"]\n",
    "          \n",
    "          2. Example Query 2: \"\"machine learning algorithms\"\"\n",
    "          Example Expanded Queries: [\"neural networks\", \"clustering\", \"supervised learning\", \"deep learning\"]\n",
    "          \n",
    "          Your Task:\n",
    "          Query: \"{{query}}\"\n",
    "          Example Expanded Queries:\n",
    "          \"\"\"\n",
    "        builder = PromptBuilder(self.query_expansion_prompt)\n",
    "        llm = OllamaGenerator(model = self.model)\n",
    "        self.pipeline = Pipeline()\n",
    "        self.pipeline.add_component(name=\"builder\", instance=builder)\n",
    "        self.pipeline.add_component(name=\"llm\", instance=llm)\n",
    "        self.pipeline.connect(\"builder\", \"llm\")\n",
    "\n",
    "    @component.output_types(queries=List[str])\n",
    "    def run(self, query: str, number: int = 5):\n",
    "        result = self.pipeline.run({'builder': {'query': query, 'number': number}})\n",
    "        return result"
   ]
  },
  {
   "cell_type": "code",
   "execution_count": null,
   "metadata": {},
   "outputs": [
    {
     "name": "stdout",
     "output_type": "stream",
     "text": [
      "['Example Expanded Queries:\\n\\n[\"open source natural language processing frameworks\", \"free machine learning libraries for NLP\", \"public domain NLP tools and models\", \"community-driven NLP software libraries\"]']\n",
      "Example Expanded Queries:\n",
      "\n",
      "[\"open source natural language processing frameworks\", \"free machine learning libraries for NLP\", \"public domain NLP tools and models\", \"community-driven NLP software libraries\"]\n"
     ]
    }
   ],
   "source": [
    "expander = QueryExpander()\n",
    "text= expander.run(query=\"open source nlp frameworks\", number=4)\n",
    "\n",
    "print(text['llm']['replies'])\n",
    "text  = text['llm']['replies'][0]\n"
   ]
  },
  {
   "cell_type": "code",
   "execution_count": 34,
   "metadata": {},
   "outputs": [
    {
     "name": "stdout",
     "output_type": "stream",
     "text": [
      "Example Expanded Queries:\n",
      "\n",
      "[\"open source natural language processing frameworks\", \"free machine learning libraries for NLP\", \"public domain NLP tools and models\", \"community-driven NLP software libraries\"]\n"
     ]
    }
   ],
   "source": [
    "print(text)"
   ]
  },
  {
   "cell_type": "code",
   "execution_count": 35,
   "metadata": {},
   "outputs": [
    {
     "name": "stdout",
     "output_type": "stream",
     "text": [
      "['open source natural language processing frameworks', 'free machine learning libraries for NLP', 'public domain NLP tools and models', 'community-driven NLP software libraries']\n"
     ]
    }
   ],
   "source": [
    "import re\n",
    "\n",
    "\n",
    "# Regular expression to extract the list items\n",
    "pattern = r'\\[\"([^\"]+)\", \"([^\"]+)\", \"([^\"]+)\", \"([^\"]+)\"\\]'\n",
    "\n",
    "# Find the match\n",
    "match = re.search(pattern, text)\n",
    "\n",
    "# Extract and print the list items if a match is found\n",
    "if match:\n",
    "    items = match.groups()\n",
    "    print(list(items))\n",
    "else:\n",
    "    print(\"No match found.\")"
   ]
  }
 ],
 "metadata": {
  "kernelspec": {
   "display_name": "venv",
   "language": "python",
   "name": "python3"
  },
  "language_info": {
   "codemirror_mode": {
    "name": "ipython",
    "version": 3
   },
   "file_extension": ".py",
   "mimetype": "text/x-python",
   "name": "python",
   "nbconvert_exporter": "python",
   "pygments_lexer": "ipython3",
   "version": "3.11.9"
  }
 },
 "nbformat": 4,
 "nbformat_minor": 2
}
