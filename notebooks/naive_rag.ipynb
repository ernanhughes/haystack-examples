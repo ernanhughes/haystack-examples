{
 "cells": [
  {
   "cell_type": "code",
   "execution_count": 3,
   "metadata": {},
   "outputs": [
    {
     "name": "stdout",
     "output_type": "stream",
     "text": [
      "{'llm': {'replies': [\"Based on the context you provided, here are some things that you seem to like:\\n\\n1. Summer\\n2. Soccer (your favorite sport)\\n3. Possibly other outdoor or recreational activities (not specified, but implied by your liking of summer and not crowded places)\\n\\nNote that there's one thing you don't like in the list: reading sci-fi books.\"], 'meta': [{'model': 'llama3.2', 'created_at': '2025-02-28T18:39:15.8978676Z', 'done': True, 'done_reason': 'stop', 'total_duration': 1151124700, 'load_duration': 14097000, 'prompt_eval_count': 75, 'prompt_eval_duration': 1000000, 'eval_count': 73, 'eval_duration': 1134000000, 'context': [128006, 9125, 128007, 271, 38766, 1303, 33025, 2696, 25, 6790, 220, 2366, 18, 271, 128009, 128006, 882, 128007, 1432, 22818, 279, 2768, 2038, 11, 4320, 279, 3488, 382, 2014, 25, 4815, 262, 358, 2216, 1093, 7474, 271, 262, 358, 1541, 956, 1093, 39313, 7634, 271, 262, 358, 1541, 956, 1093, 5403, 39074, 37731, 6603, 271, 262, 3092, 7075, 10775, 374, 22963, 1432, 14924, 25, 3639, 656, 358, 1093, 7801, 128009, 128006, 78191, 128007, 271, 29815, 389, 279, 2317, 499, 3984, 11, 1618, 527, 1063, 2574, 430, 499, 2873, 311, 1093, 1473, 16, 13, 19367, 198, 17, 13, 38633, 320, 22479, 7075, 10775, 340, 18, 13, 80291, 1023, 16166, 477, 37100, 7640, 320, 1962, 5300, 11, 719, 6259, 555, 701, 49837, 315, 7474, 323, 539, 39313, 7634, 696, 9290, 430, 1070, 596, 832, 3245, 499, 1541, 956, 1093, 304, 279, 1160, 25, 5403, 39074, 37731, 6603, 13]}]}}\n"
     ]
    }
   ],
   "source": [
    "from haystack_integrations.components.generators.ollama import OllamaGenerator\n",
    "\n",
    "from haystack import Pipeline, Document\n",
    "from haystack.components.retrievers.in_memory import InMemoryBM25Retriever\n",
    "from haystack.components.builders.prompt_builder import PromptBuilder\n",
    "from haystack.document_stores.in_memory import InMemoryDocumentStore\n",
    "\n",
    "import logging\n",
    "\n",
    "logging.basicConfig(format=\"%(levelname)s - %(name)s -  %(message)s\", level=logging.WARNING, \n",
    "                    filemode='w', filename='app.log')\n",
    "logging.getLogger(\"haystack\").setLevel(logging.DEBUG)\n",
    "\n",
    "query = \"What do I like?\"\n",
    "\n",
    "template = \"\"\"\n",
    "Given the following information, answer the question.\n",
    "\n",
    "Context: \n",
    "{% for document in documents %}\n",
    "    {{ document.content }}\n",
    "{% endfor %}\n",
    "\n",
    "Question: {{ query }}?\n",
    "\"\"\"\n",
    "\n",
    "\n",
    "docstore = InMemoryDocumentStore()\n",
    "docstore.write_documents([Document(content=\"I really like summer\"),\n",
    "                          Document(content=\"My favorite sport is soccer\"),\n",
    "                          Document(content=\"I don't like reading sci-fi books\"),\n",
    "                          Document(content=\"I don't like crowded places\"),])\n",
    "\n",
    "generator = OllamaGenerator(model=\"llama3.2\",\n",
    "                            url = \"http://localhost:11434\",\n",
    "                            generation_kwargs={\n",
    "                              \"num_predict\": 100,\n",
    "                              \"temperature\": 0.9,\n",
    "                              })\n",
    "\n",
    "pipe = Pipeline()\n",
    "pipe.add_component(\"retriever\", InMemoryBM25Retriever(document_store=docstore))\n",
    "pipe.add_component(\"prompt_builder\", PromptBuilder(template=template))\n",
    "pipe.add_component(\"llm\", generator)\n",
    "pipe.connect(\"retriever\", \"prompt_builder.documents\")\n",
    "pipe.connect(\"prompt_builder\", \"llm\")\n",
    "\n",
    "result = pipe.run({\"prompt_builder\": {\"query\": query},\n",
    "\t\t\t\t\t\t\t\t\t\"retriever\": {\"query\": query}})\n",
    "\n",
    "print(result)\n"
   ]
  }
 ],
 "metadata": {
  "kernelspec": {
   "display_name": "venv",
   "language": "python",
   "name": "python3"
  },
  "language_info": {
   "codemirror_mode": {
    "name": "ipython",
    "version": 3
   },
   "file_extension": ".py",
   "mimetype": "text/x-python",
   "name": "python",
   "nbconvert_exporter": "python",
   "pygments_lexer": "ipython3",
   "version": "3.11.9"
  }
 },
 "nbformat": 4,
 "nbformat_minor": 2
}
